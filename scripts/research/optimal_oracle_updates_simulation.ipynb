{
 "cells": [
  {
   "cell_type": "markdown",
   "metadata": {
    "collapsed": true,
    "pycharm": {
     "name": "#%% md\n"
    }
   },
   "source": [
    "Oracle updates are expensive. This notebook focuses on coming up with an optimal oracle update strategy that minimises gas costs but is reasonable enough: not for too long such that oracle price deviates from spot too much consistently."
   ]
  },
  {
   "cell_type": "code",
   "execution_count": 1,
   "outputs": [],
   "source": [
    "import os\n",
    "\n",
    "import pandas as pd\n",
    "import matplotlib.pyplot as plt\n",
    "import seaborn as sns\n",
    "sns.set_style(\"whitegrid\")\n",
    "\n",
    "from cvx_synth_asset_oracle import ConvexSynthAssetOracleLite"
   ],
   "metadata": {
    "collapsed": false,
    "pycharm": {
     "name": "#%%\n"
    }
   }
  },
  {
   "cell_type": "code",
   "execution_count": 2,
   "outputs": [
    {
     "data": {
      "text/plain": "          block  crvusd_price  ethusd_price  cvxcrv_crv_1  cvxcrv_crv_10  \\\n0      13056869      2.070921   3066.626358      0.996924       9.132532   \n1      13056984      2.052405   3041.060346      0.994729       9.947286   \n2      13058684      2.121912   3175.374060      0.996586       9.965855   \n3      13058701      2.121912   3175.374060      0.995442       9.954414   \n4      13058709      2.121912   3175.374060      0.991493       9.914924   \n...         ...           ...           ...           ...            ...   \n26218  14061352      3.071517   2522.084130      0.950490       9.504899   \n26219  14061355      3.071517   2522.084130      0.950430       9.504301   \n26220  14061360      3.071517   2522.084130      0.950403       9.504030   \n26221  14061528      3.071517   2525.269977      0.950403       9.504030   \n26222  14061532      3.071517   2525.269977      0.950466       9.504658   \n\n       cvxcrv_crv_100  cvxcrv_crv_1000  cvxcrv_crv_10000  cvxcrv_pool_balance  \\\n0           10.082833        10.084830         10.084850         9.900095e+00   \n1           99.472498       994.688360       9943.196023         5.520935e+05   \n2           99.658231       996.550167       9962.276366         5.812792e+05   \n3           99.543810       995.405334       9950.759193         5.971679e+05   \n4           99.148867       991.451563       9910.763473         6.485631e+05   \n...               ...              ...               ...                  ...   \n26218       95.048955       950.485643       9504.465075         4.081266e+07   \n26219       95.042975       950.425835       9503.866384         4.081954e+07   \n26220       95.040257       950.398647       9503.594233         4.082266e+07   \n26221       95.040258       950.398656       9503.594324         4.082266e+07   \n26222       95.046541       950.461496       9504.223358         4.081544e+07   \n\n       crv_pool_balance  \n0          1.010000e+01  \n1          4.564644e+05  \n2          5.272852e+05  \n3          5.114479e+05  \n4          4.603481e+05  \n...                 ...  \n26218      1.090499e+07  \n26219      1.089845e+07  \n26220      1.089547e+07  \n26221      1.089547e+07  \n26222      1.090235e+07  \n\n[26223 rows x 10 columns]",
      "text/html": "<div>\n<style scoped>\n    .dataframe tbody tr th:only-of-type {\n        vertical-align: middle;\n    }\n\n    .dataframe tbody tr th {\n        vertical-align: top;\n    }\n\n    .dataframe thead th {\n        text-align: right;\n    }\n</style>\n<table border=\"1\" class=\"dataframe\">\n  <thead>\n    <tr style=\"text-align: right;\">\n      <th></th>\n      <th>block</th>\n      <th>crvusd_price</th>\n      <th>ethusd_price</th>\n      <th>cvxcrv_crv_1</th>\n      <th>cvxcrv_crv_10</th>\n      <th>cvxcrv_crv_100</th>\n      <th>cvxcrv_crv_1000</th>\n      <th>cvxcrv_crv_10000</th>\n      <th>cvxcrv_pool_balance</th>\n      <th>crv_pool_balance</th>\n    </tr>\n  </thead>\n  <tbody>\n    <tr>\n      <th>0</th>\n      <td>13056869</td>\n      <td>2.070921</td>\n      <td>3066.626358</td>\n      <td>0.996924</td>\n      <td>9.132532</td>\n      <td>10.082833</td>\n      <td>10.084830</td>\n      <td>10.084850</td>\n      <td>9.900095e+00</td>\n      <td>1.010000e+01</td>\n    </tr>\n    <tr>\n      <th>1</th>\n      <td>13056984</td>\n      <td>2.052405</td>\n      <td>3041.060346</td>\n      <td>0.994729</td>\n      <td>9.947286</td>\n      <td>99.472498</td>\n      <td>994.688360</td>\n      <td>9943.196023</td>\n      <td>5.520935e+05</td>\n      <td>4.564644e+05</td>\n    </tr>\n    <tr>\n      <th>2</th>\n      <td>13058684</td>\n      <td>2.121912</td>\n      <td>3175.374060</td>\n      <td>0.996586</td>\n      <td>9.965855</td>\n      <td>99.658231</td>\n      <td>996.550167</td>\n      <td>9962.276366</td>\n      <td>5.812792e+05</td>\n      <td>5.272852e+05</td>\n    </tr>\n    <tr>\n      <th>3</th>\n      <td>13058701</td>\n      <td>2.121912</td>\n      <td>3175.374060</td>\n      <td>0.995442</td>\n      <td>9.954414</td>\n      <td>99.543810</td>\n      <td>995.405334</td>\n      <td>9950.759193</td>\n      <td>5.971679e+05</td>\n      <td>5.114479e+05</td>\n    </tr>\n    <tr>\n      <th>4</th>\n      <td>13058709</td>\n      <td>2.121912</td>\n      <td>3175.374060</td>\n      <td>0.991493</td>\n      <td>9.914924</td>\n      <td>99.148867</td>\n      <td>991.451563</td>\n      <td>9910.763473</td>\n      <td>6.485631e+05</td>\n      <td>4.603481e+05</td>\n    </tr>\n    <tr>\n      <th>...</th>\n      <td>...</td>\n      <td>...</td>\n      <td>...</td>\n      <td>...</td>\n      <td>...</td>\n      <td>...</td>\n      <td>...</td>\n      <td>...</td>\n      <td>...</td>\n      <td>...</td>\n    </tr>\n    <tr>\n      <th>26218</th>\n      <td>14061352</td>\n      <td>3.071517</td>\n      <td>2522.084130</td>\n      <td>0.950490</td>\n      <td>9.504899</td>\n      <td>95.048955</td>\n      <td>950.485643</td>\n      <td>9504.465075</td>\n      <td>4.081266e+07</td>\n      <td>1.090499e+07</td>\n    </tr>\n    <tr>\n      <th>26219</th>\n      <td>14061355</td>\n      <td>3.071517</td>\n      <td>2522.084130</td>\n      <td>0.950430</td>\n      <td>9.504301</td>\n      <td>95.042975</td>\n      <td>950.425835</td>\n      <td>9503.866384</td>\n      <td>4.081954e+07</td>\n      <td>1.089845e+07</td>\n    </tr>\n    <tr>\n      <th>26220</th>\n      <td>14061360</td>\n      <td>3.071517</td>\n      <td>2522.084130</td>\n      <td>0.950403</td>\n      <td>9.504030</td>\n      <td>95.040257</td>\n      <td>950.398647</td>\n      <td>9503.594233</td>\n      <td>4.082266e+07</td>\n      <td>1.089547e+07</td>\n    </tr>\n    <tr>\n      <th>26221</th>\n      <td>14061528</td>\n      <td>3.071517</td>\n      <td>2525.269977</td>\n      <td>0.950403</td>\n      <td>9.504030</td>\n      <td>95.040258</td>\n      <td>950.398656</td>\n      <td>9503.594324</td>\n      <td>4.082266e+07</td>\n      <td>1.089547e+07</td>\n    </tr>\n    <tr>\n      <th>26222</th>\n      <td>14061532</td>\n      <td>3.071517</td>\n      <td>2525.269977</td>\n      <td>0.950466</td>\n      <td>9.504658</td>\n      <td>95.046541</td>\n      <td>950.461496</td>\n      <td>9504.223358</td>\n      <td>4.081544e+07</td>\n      <td>1.090235e+07</td>\n    </tr>\n  </tbody>\n</table>\n<p>26223 rows × 10 columns</p>\n</div>"
     },
     "execution_count": 2,
     "metadata": {},
     "output_type": "execute_result"
    }
   ],
   "source": [
    "save_file_dir = \"../data/cvxcrv_pool_data.csv\"\n",
    "pool_data = pd.DataFrame()\n",
    "if os.path.exists(save_file_dir):\n",
    "    pool_data = pd.read_csv(save_file_dir)\n",
    "pool_data"
   ],
   "metadata": {
    "collapsed": false,
    "pycharm": {
     "name": "#%%\n"
    }
   }
  },
  {
   "cell_type": "code",
   "execution_count": null,
   "outputs": [],
   "source": [],
   "metadata": {
    "collapsed": false,
    "pycharm": {
     "name": "#%%\n"
    }
   }
  }
 ],
 "metadata": {
  "kernelspec": {
   "display_name": "Python 3",
   "language": "python",
   "name": "python3"
  },
  "language_info": {
   "codemirror_mode": {
    "name": "ipython",
    "version": 2
   },
   "file_extension": ".py",
   "mimetype": "text/x-python",
   "name": "python",
   "nbconvert_exporter": "python",
   "pygments_lexer": "ipython2",
   "version": "2.7.6"
  }
 },
 "nbformat": 4,
 "nbformat_minor": 0
}